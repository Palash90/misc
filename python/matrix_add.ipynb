{
 "cells": [
  {
   "cell_type": "code",
   "execution_count": 1,
   "id": "1244d255-5342-4815-ba36-398e31d3d80a",
   "metadata": {},
   "outputs": [],
   "source": [
    "def add_matrices(matrix1, matrix2):\n",
    "    # Assuming matrix1 and matrix2 have the same dimensions\n",
    "    result = [[matrix1[i][j] + matrix2[i][j] for j in range(len(matrix1[0]))] for i in range(len(matrix1))]\n",
    "    return result"
   ]
  },
  {
   "cell_type": "code",
   "execution_count": 2,
   "id": "04004226-5f61-4cff-94af-66b059bd9151",
   "metadata": {},
   "outputs": [
    {
     "data": {
      "text/plain": [
       "[[1, -2], [3, 4]]"
      ]
     },
     "execution_count": 2,
     "metadata": {},
     "output_type": "execute_result"
    }
   ],
   "source": [
    "matrix1 = [[1, -2], [3, 4]]\n",
    "zero_matrix = [[0, 0], [0, 0]]  # A 2x2 zero matrix\n",
    "add_matrices(matrix1, zero_matrix)"
   ]
  },
  {
   "cell_type": "code",
   "execution_count": 3,
   "id": "a41e62c9-083a-40cf-a74f-154de933eeff",
   "metadata": {},
   "outputs": [
    {
     "data": {
      "text/plain": [
       "[[2, -2], [3, 5]]"
      ]
     },
     "execution_count": 3,
     "metadata": {},
     "output_type": "execute_result"
    }
   ],
   "source": [
    "identity_matrix = [[1, 0], [0, 1]]  # A 2x2 identity matrix\n",
    "add_matrices(matrix1, identity_matrix)\n"
   ]
  },
  {
   "cell_type": "code",
   "execution_count": 4,
   "id": "6e821f1f-ec7b-42ee-896a-85d078902898",
   "metadata": {},
   "outputs": [
    {
     "data": {
      "text/plain": [
       "[[-4, 4], [10, -4]]"
      ]
     },
     "execution_count": 4,
     "metadata": {},
     "output_type": "execute_result"
    }
   ],
   "source": [
    "matrix1 = [[1, -2], [3, 4]]\n",
    "matrix2 = [[-5, 6], [7, -8]]\n",
    "add_matrices(matrix1, matrix2)\n"
   ]
  },
  {
   "cell_type": "code",
   "execution_count": 5,
   "id": "97e9760b-c5b1-4400-9436-c311e521e5ac",
   "metadata": {},
   "outputs": [
    {
     "data": {
      "text/plain": [
       "array([[[[11]],\n",
       "\n",
       "        [[39]]]])"
      ]
     },
     "execution_count": 5,
     "metadata": {},
     "output_type": "execute_result"
    }
   ],
   "source": [
    "import numpy as np\n",
    "\n",
    "np.array([[[1,2],[5,6]]]).dot(([[[3],[4]]]))\n"
   ]
  }
 ],
 "metadata": {
  "kernelspec": {
   "display_name": "Python 3 (ipykernel)",
   "language": "python",
   "name": "python3"
  },
  "language_info": {
   "codemirror_mode": {
    "name": "ipython",
    "version": 3
   },
   "file_extension": ".py",
   "mimetype": "text/x-python",
   "name": "python",
   "nbconvert_exporter": "python",
   "pygments_lexer": "ipython3",
   "version": "3.12.1"
  }
 },
 "nbformat": 4,
 "nbformat_minor": 5
}
