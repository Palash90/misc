{
 "cells": [
  {
   "cell_type": "code",
   "execution_count": 55,
   "id": "aeb76e59-7eaf-45a0-93d5-5b0da5eaefc8",
   "metadata": {},
   "outputs": [],
   "source": [
    "import numpy as np\n",
    "import pandas as pd\n",
    "import matplotlib.pyplot as plt"
   ]
  },
  {
   "cell_type": "code",
   "execution_count": 48,
   "id": "fb2a5b02-1480-461d-bfcf-cc2b4c6403fb",
   "metadata": {},
   "outputs": [],
   "source": [
    "a = [2,3,-0.5]\n",
    "b = 2500000"
   ]
  },
  {
   "cell_type": "code",
   "execution_count": 52,
   "id": "079df699-901f-4058-b6a3-dc76668c407e",
   "metadata": {},
   "outputs": [
    {
     "data": {
      "text/plain": [
       "array([[   2, 2598,  956],\n",
       "       [   1, 2009,  880],\n",
       "       [   1, 1775,  230],\n",
       "       [   1, 2142,  807],\n",
       "       [   3, 3473,  286],\n",
       "       [   1, 2749,  347],\n",
       "       [   1, 2391,  524],\n",
       "       [   1, 3292,  838],\n",
       "       [   4, 2157,  270],\n",
       "       [   2, 1907,  486],\n",
       "       [   4, 1935,  635],\n",
       "       [   4, 2025,  194],\n",
       "       [   4, 2364,  939],\n",
       "       [   4, 1691,  485],\n",
       "       [   3, 3489,  229],\n",
       "       [   3, 2269,  408],\n",
       "       [   3, 2527,  552],\n",
       "       [   3, 2709,  597],\n",
       "       [   1, 2197,  776],\n",
       "       [   3, 3137,  782]])"
      ]
     },
     "execution_count": 52,
     "metadata": {},
     "output_type": "execute_result"
    }
   ],
   "source": [
    "rooms = np.random.randint(low=1, high=5,size=20)\n",
    "area = np.random.randint(low=1440, high=3600,size=20)\n",
    "school_distance = np.random.randint(low=100, high=1000,size=20)\n",
    "x = np.array([rooms, area, school_distance])\n",
    "x = np.transpose(x)\n",
    "x"
   ]
  },
  {
   "cell_type": "code",
   "execution_count": 60,
   "id": "1cafb5e3-7dfa-4332-a034-21af62cf9774",
   "metadata": {},
   "outputs": [],
   "source": [
    "rooms = np.unique(rooms)"
   ]
  },
  {
   "cell_type": "code",
   "execution_count": 61,
   "id": "519b5302-1eaf-4972-9427-dc534d225f7e",
   "metadata": {},
   "outputs": [
    {
     "data": {
      "text/plain": [
       "array([1, 2, 3, 4])"
      ]
     },
     "execution_count": 61,
     "metadata": {},
     "output_type": "execute_result"
    }
   ],
   "source": [
    "rooms"
   ]
  },
  {
   "cell_type": "code",
   "execution_count": 65,
   "id": "8da3c617-fa24-44f7-ad02-b4dfd1309b72",
   "metadata": {},
   "outputs": [
    {
     "data": {
      "text/plain": [
       "array([2500002, 2500004, 2500006, 2500008])"
      ]
     },
     "execution_count": 65,
     "metadata": {},
     "output_type": "execute_result"
    }
   ],
   "source": [
    "y = rooms.dot(a[0]) + b\n",
    "y"
   ]
  },
  {
   "cell_type": "code",
   "execution_count": 64,
   "id": "2ce2e483-6c77-4f8b-ae87-2bd3b9007d68",
   "metadata": {},
   "outputs": [
    {
     "data": {
      "image/png": "[encoded data removed]",
      "text/plain": [
       "<Figure size 640x480 with 1 Axes>"
      ]
     },
     "metadata": {},
     "output_type": "display_data"
    }
   ],
   "source": [
    "plt.scatter(rooms, y)\n",
    "plt.show()"
   ]
  },
  {
   "cell_type": "code",
   "execution_count": null,
   "id": "7ad67ba1-1684-435d-a71e-f5f7a677ab80",
   "metadata": {},
   "outputs": [],
   "source": []
  }
 ],
 "metadata": {
  "kernelspec": {
   "display_name": "Python 3 (ipykernel)",
   "language": "python",
   "name": "python3"
  },
  "language_info": {
   "codemirror_mode": {
    "name": "ipython",
    "version": 3
   },
   "file_extension": ".py",
   "mimetype": "text/x-python",
   "name": "python",
   "nbconvert_exporter": "python",
   "pygments_lexer": "ipython3",
   "version": "3.12.1"
  }
 },
 "nbformat": 4,
 "nbformat_minor": 5
}
