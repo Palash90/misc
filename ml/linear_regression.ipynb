{
 "cells": [
  {
   "cell_type": "code",
   "execution_count": 25,
   "id": "aeb76e59-7eaf-45a0-93d5-5b0da5eaefc8",
   "metadata": {},
   "outputs": [],
   "source": [
    "import numpy as np\n",
    "import pandas as pd\n",
    "import matplotlib.pyplot as plt\n",
    "import random"
   ]
  },
  {
   "cell_type": "code",
   "execution_count": 26,
   "id": "fb2a5b02-1480-461d-bfcf-cc2b4c6403fb",
   "metadata": {},
   "outputs": [],
   "source": [
    "a = [2,3,-0.5]\n",
    "b = 200"
   ]
  },
  {
   "cell_type": "code",
   "execution_count": 27,
   "id": "079df699-901f-4058-b6a3-dc76668c407e",
   "metadata": {},
   "outputs": [],
   "source": [
    "rooms = np.random.randint(low=1, high=80,size=20)\n",
    "area = np.random.randint(low=1440, high=3600,size=20)\n",
    "school_distance = np.random.randint(low=100, high=1000,size=20)\n",
    "x = np.array([rooms, area, school_distance])\n",
    "x = np.transpose(x)"
   ]
  },
  {
   "cell_type": "code",
   "execution_count": 28,
   "id": "1cafb5e3-7dfa-4332-a034-21af62cf9774",
   "metadata": {},
   "outputs": [],
   "source": [
    "rooms = np.unique(rooms)"
   ]
  },
  {
   "cell_type": "code",
   "execution_count": 29,
   "id": "8da3c617-fa24-44f7-ad02-b4dfd1309b72",
   "metadata": {},
   "outputs": [],
   "source": [
    "y = rooms.dot(a[0]) + b"
   ]
  },
  {
   "cell_type": "code",
   "execution_count": 30,
   "id": "2ce2e483-6c77-4f8b-ae87-2bd3b9007d68",
   "metadata": {},
   "outputs": [
    {
     "data": {
      "image/png": "[encoded data removed]",
      "text/plain": [
       "<Figure size 640x480 with 1 Axes>"
      ]
     },
     "metadata": {},
     "output_type": "display_data"
    }
   ],
   "source": [
    "plt.scatter(rooms, y)\n",
    "plt.show()"
   ]
  },
  {
   "cell_type": "code",
   "execution_count": 31,
   "id": "7ad67ba1-1684-435d-a71e-f5f7a677ab80",
   "metadata": {},
   "outputs": [],
   "source": [
    "def simple_trick(base_price, price_per_room, num_rooms, price):\n",
    "    small_random_1 = random.random() * 0.1\n",
    "    small_random_2 = random.random() * 0.1\n",
    "    predicted_price = base_price + price_per_room*num_rooms\n",
    "    if(abs(predicted_price - price) < price * 5/100):\n",
    "        return price_per_room, base_price, False\n",
    "    if price > predicted_price and num_rooms > 0:\n",
    "        price_per_room += small_random_1\n",
    "        base_price += small_random_2\n",
    "    if price > predicted_price and num_rooms < 0:\n",
    "        price_per_room -= small_random_1\n",
    "        base_price += small_random_2\n",
    "    if price < predicted_price and num_rooms > 0:\n",
    "        price_per_room -= small_random_1\n",
    "        base_price -= small_random_2\n",
    "    if price < predicted_price and num_rooms < 0:\n",
    "        price_per_room -= small_random_1\n",
    "        base_price += small_random_2\n",
    "    return price_per_room, base_price, True"
   ]
  },
  {
   "cell_type": "code",
   "execution_count": 32,
   "id": "9c30fd9c-0372-477a-9e79-9178a0766638",
   "metadata": {},
   "outputs": [],
   "source": [
    "def square_trick(base_price, price_per_room, num_rooms, price, learning_rate):\n",
    "    predicted_price = base_price + price_per_room*num_rooms\n",
    "    price_per_room += learning_rate*num_rooms*(price-predicted_price)\n",
    "    base_price += learning_rate*(price-predicted_price)\n",
    "    return price_per_room, base_price, True"
   ]
  },
  {
   "cell_type": "code",
   "execution_count": 33,
   "id": "fe6c6470-608b-49e1-9ae4-1d76c2841270",
   "metadata": {},
   "outputs": [],
   "source": [
    "random.seed(0)\n",
    "def linear_regression(features, labels, learning_rate=0.01, epochs = 1000):\n",
    "    price_per_room = random.random()\n",
    "    base_price = random.random()\n",
    "    for epoch in range(epochs):\n",
    "        i = random.randint(0, len(features)-1)\n",
    "        num_rooms = features[i]\n",
    "        price = labels[i]\n",
    "        price_per_room, base_price, cont = square_trick(base_price,\n",
    "                                                  price_per_room,\n",
    "                                                  num_rooms,\n",
    "                                                  price, 0.01)\n",
    "       \n",
    "    print('Price per room:', price_per_room)\n",
    "    print('Base price:', base_price)\n",
    "    return price_per_room, base_price"
   ]
  },
  {
   "cell_type": "code",
   "execution_count": 34,
   "id": "1be06805-ce33-4f3e-8ef0-679fa4589b95",
   "metadata": {},
   "outputs": [
    {
     "name": "stdout",
     "output_type": "stream",
     "text": [
      "Price per room: nan\n",
      "Base price: nan\n"
     ]
    },
    {
     "name": "stderr",
     "output_type": "stream",
     "text": [
      "C:\\Users\\iampk\\AppData\\Local\\Temp\\ipykernel_16068\\2166515683.py:2: RuntimeWarning: overflow encountered in scalar multiply\n",
      "  predicted_price = base_price + price_per_room*num_rooms\n",
      "C:\\Users\\iampk\\AppData\\Local\\Temp\\ipykernel_16068\\2166515683.py:3: RuntimeWarning: invalid value encountered in scalar add\n",
      "  price_per_room += learning_rate*num_rooms*(price-predicted_price)\n",
      "C:\\Users\\iampk\\AppData\\Local\\Temp\\ipykernel_16068\\2166515683.py:4: RuntimeWarning: invalid value encountered in scalar add\n",
      "  base_price += learning_rate*(price-predicted_price)\n"
     ]
    },
    {
     "data": {
      "text/plain": [
       "(nan, nan)"
      ]
     },
     "execution_count": 34,
     "metadata": {},
     "output_type": "execute_result"
    }
   ],
   "source": [
    "linear_regression(rooms, y, learning_rate = 0.01, epochs = 10000)"
   ]
  },
  {
   "cell_type": "code",
   "execution_count": null,
   "id": "519fcad2-5820-4b38-b2b9-ceddb8efff0e",
   "metadata": {},
   "outputs": [],
   "source": []
  }
 ],
 "metadata": {
  "kernelspec": {
   "display_name": "Python 3 (ipykernel)",
   "language": "python",
   "name": "python3"
  },
  "language_info": {
   "codemirror_mode": {
    "name": "ipython",
    "version": 3
   },
   "file_extension": ".py",
   "mimetype": "text/x-python",
   "name": "python",
   "nbconvert_exporter": "python",
   "pygments_lexer": "ipython3",
   "version": "3.12.1"
  }
 },
 "nbformat": 4,
 "nbformat_minor": 5
}
